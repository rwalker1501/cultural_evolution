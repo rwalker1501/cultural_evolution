{
 "cells": [
  {
   "cell_type": "markdown",
   "metadata": {},
   "source": [
    "# User Guide\n",
    "\n",
    "## 1) Generating Results\n",
    "1. Load target through either:\n",
    "    1. Defining a list of targets\n",
    "    2. Loading processed targets\n",
    "2. Generate results and indicate directory"
   ]
  },
  {
   "cell_type": "markdown",
   "metadata": {},
   "source": [
    "#### Results Output\n",
    "\n",
    "The results are saved in the results/directory_you_indicated folder. There are several files produced, namely:\n",
    "1. directory_results.csv - contains main results\n",
    "2. directory_linear_ratio.png - linear likelihood ratio curve\n",
    "3. directory_linear_sites.png - actual sites vs linear predicted sites\n",
    "4. directory_threshold_ratio.png - threshold likelihood ratio curve\n",
    "5. directory_threshold_sites.png - actual sites vs threshold predicted sites\n",
    "6. directory_gc_boxplot.png - growth coefficients boxplot\n",
    "7. directory_p_graph.png - p_samples vs p_controls\n",
    "\n",
    "### 1a) Generate results through the main menu\n",
    "\n",
    "1. Run the \"main_menu.py\" python file (command line: python main_menu.py)\n",
    "2. Load targets*:\n",
    "    - Option 1: Define list of targets\n",
    "    - Option 3: Load processed targets\n",
    "3. Generate results (Option 7)\n",
    "\n",
    "### 2a) Generate results through a script\n",
    "\n",
    "Another option is to utilize the run_experiment method of main_module.py.\n",
    "\n",
    "1. Import main_module\n",
    "2. Use the run_experiment module with atleast the following parameters:\n",
    "    - results_path\n",
    "    - target_list_file\n",
    "    - output_directory\n",
    "3. Modify other parameters if necessary\n",
    "4. Run python script\n",
    "\n",
    "Below is an example of how to use it and the default values of its parameters."
   ]
  },
  {
   "cell_type": "code",
   "execution_count": null,
   "metadata": {
    "collapsed": true
   },
   "outputs": [],
   "source": [
    "import os\n",
    "import main_module as mm\n",
    "\n",
    "#--------------------------#\n",
    "# run_experiment parameters\n",
    "#--------------------------#\n",
    "# results_path: directory where results folder will be created\n",
    "# target_list_file: filename of target list in tests folder (no extension)\n",
    "# output_directory: directory of results (will be in results folder)\n",
    "# population_data_name=\"Eriksson\"\n",
    "# controls=\"All\"\n",
    "# date_window=10000\n",
    "# user_max_for_uninhabited=-1\n",
    "# clustering_on = False\n",
    "# critical_distance=1\n",
    "# filter_date_before=-1\n",
    "# filter_not_direct=False\n",
    "# filter_not_figurative=False\n",
    "# filter_not_controversial = False\n",
    "# perform_cross_validation=False\n",
    "# number_of_kfolds = 100\n",
    "# minimum_likelihood_ratio = 0.0000001\n",
    "# min_date_window=0\n",
    "# critical_time=10000\n",
    "# filter_min_date=-1\n",
    "# filter_max_date=-1\n",
    "# filter_min_lat=-1\n",
    "# filter_max_lat=-1\n",
    "\n",
    "base_path = os.getcwd()\n",
    "mm.run_experiment(base_path, \"rockpaintings v8\", \"full_e\")\n",
    "mm.run_experiment(base_path, \"rockpaintings v8\", \"full_e_dir\", filter_not_direct=True)"
   ]
  },
  {
   "cell_type": "markdown",
   "metadata": {},
   "source": [
    "## 2) Changing Default Values\n",
    "\n",
    "We can find default values in MainProgram's init method. "
   ]
  },
  {
   "cell_type": "code",
   "execution_count": 1,
   "metadata": {
    "collapsed": true
   },
   "outputs": [],
   "source": [
    "def __init__(self):\n",
    "    self.base_path = os.getcwd()\n",
    "    self.filters_applied = \"\"\n",
    "    self.population_data_sources = []\n",
    "    self.target_list=[]\n",
    "    self.dataframe_loaded = False\n",
    "    self.dataframe = pd.DataFrame()\n",
    "    self.controls = \"All\"\n",
    "    self.controls_dataframe = pd.DataFrame()\n",
    "    self.default_statistic='Mean'\n",
    "    self.clustering_on=False\n",
    "    self.critical_distance=250\n",
    "    self.date_window=10000\n",
    "    self.number_of_kfolds = 10\n",
    "    self.minimum_likelihood_ratio = 0\n",
    "    self.perform_cross_validation = False\n",
    "    self.user_max_for_uninhabited = 1000\n",
    "    self.default_mfu = True\n",
    "    self.min_date_window = 0\n",
    "    self.critical_time = 10000"
   ]
  },
  {
   "cell_type": "markdown",
   "metadata": {},
   "source": [
    "## 3) Adding Additional Population Data\n",
    "\n",
    "You need two files:\n",
    "1. binary file: contains the lats, lons, and densities\n",
    "2. info file: indicates necessary details about the binary file (meta-data)\n",
    "\n",
    "These files should be put inside the population_data folder. \n",
    "\n",
    "### Binary File\n",
    "\n",
    "Your binary file should contain lats, lons, times, and densities. The binary file has the following variables:\n",
    "1. lats_txt: list of latitudes\n",
    "2. lons_txt: list of longitudes (360 should be added to lons < 0)\n",
    "3. ts_txt: list of times\n",
    "4. dens_txt: 2D list of densities according to time (row) and latlon (column)\n",
    "\n",
    "You can create a binary file using numpy's savez_compressed function.\n",
    "\n",
    "For example, you have the following densities with time and location:\n",
    "* 1000, time=0, lat=45, lon=90\n",
    "* 2000, time=0, lat=50, lon=-50\n",
    "* 3000, time=1, lat=0, lon=0\n",
    "\n",
    "lats_txt value:"
   ]
  },
  {
   "cell_type": "code",
   "execution_count": 12,
   "metadata": {
    "collapsed": true
   },
   "outputs": [],
   "source": [
    "lats_txt = [45, 50, 0]"
   ]
  },
  {
   "cell_type": "markdown",
   "metadata": {},
   "source": [
    "lons_txt value:"
   ]
  },
  {
   "cell_type": "code",
   "execution_count": 13,
   "metadata": {
    "collapsed": true
   },
   "outputs": [],
   "source": [
    "lons_txt = [90, (-50 + 360), 0]"
   ]
  },
  {
   "cell_type": "markdown",
   "metadata": {},
   "source": [
    "ts_txt value:"
   ]
  },
  {
   "cell_type": "code",
   "execution_count": 14,
   "metadata": {
    "collapsed": true
   },
   "outputs": [],
   "source": [
    "ts_txt = [0, 1]"
   ]
  },
  {
   "cell_type": "markdown",
   "metadata": {},
   "source": [
    "dens_txt value:"
   ]
  },
  {
   "cell_type": "code",
   "execution_count": 15,
   "metadata": {
    "collapsed": true
   },
   "outputs": [],
   "source": [
    "dens_txt = [[1000, 2000, 0],\n",
    "[0, 0, 3000]]"
   ]
  },
  {
   "cell_type": "markdown",
   "metadata": {},
   "source": [
    "Then save these values in a compressed file:"
   ]
  },
  {
   "cell_type": "code",
   "execution_count": 16,
   "metadata": {
    "collapsed": true
   },
   "outputs": [],
   "source": [
    "import numpy as np\n",
    "np.savez_compressed(\"binary.npz\",lats_txt=lats_txt, lons_txt=lons_txt,ts_txt=ts_txt,dens_txt=dens_txt)"
   ]
  },
  {
   "cell_type": "markdown",
   "metadata": {},
   "source": [
    "### Info file\n",
    "\n",
    "Your info file should contain the following information:\n",
    "1. time multiplier: integer - multiplier for values in time array (use 1 if using actual time)\n",
    "2. bin size: integer - size of bin when generating distributions\n",
    "3. max population: integer - max population in your density dataset\n",
    "4. max for uninhabited: integer - default max population considered as uninhabited\n",
    "5. is active: boolean - set as active population data by default\n",
    "6. ascending time: boolean - if time array is arranged in ascending order\n",
    "\n",
    "\n",
    "Here is an example of the format, using Eriksson's info file:"
   ]
  },
  {
   "cell_type": "code",
   "execution_count": null,
   "metadata": {
    "collapsed": true
   },
   "outputs": [],
   "source": [
    "time_multiplier\t25\n",
    "bin_size\t200\n",
    "max_population\t6000\n",
    "max_for_uninhabited\t1000\n",
    "is_active\tTrue\n",
    "ascending_time\tFalse"
   ]
  },
  {
   "cell_type": "markdown",
   "metadata": {},
   "source": [
    "The label and the value are separated by a single tab (\\t)."
   ]
  }
 ],
 "metadata": {
  "kernelspec": {
   "display_name": "Python 2",
   "language": "python",
   "name": "python2"
  },
  "language_info": {
   "codemirror_mode": {
    "name": "ipython",
    "version": 2
   },
   "file_extension": ".py",
   "mimetype": "text/x-python",
   "name": "python",
   "nbconvert_exporter": "python",
   "pygments_lexer": "ipython2",
   "version": "2.7.14"
  }
 },
 "nbformat": 4,
 "nbformat_minor": 2
}
