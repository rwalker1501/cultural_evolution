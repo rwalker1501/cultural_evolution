{
 "cells": [
  {
   "cell_type": "markdown",
   "metadata": {},
   "source": [
    "# Stats Module Overview\n",
    "\n",
    "This notebook discusses the functions used by generate_results from the main_module. These are namely:\n",
    "1. process_dataframe\n",
    "2. generate_bin_values\n",
    "3. generate_stats_for_likelihood_ratio\n",
    "4. generate_p_threshold_and_binomial"
   ]
  },
  {
   "cell_type": "markdown",
   "metadata": {},
   "source": [
    "## 1) Process Dataframe\n",
    "This function processes a dataframe of targets through extracting statistics and removing irrelevant targets.\n",
    "\n",
    "### Logic\n",
    "\n",
    "Loop through each cluster in the dataframe\n",
    "    1. Get the mean density for all samples and mean density for all controls\n",
    "        - if mean density for all samples is 0, remove the cluster from dataframe\n",
    "    2. Compute growth coefficient\n",
    "        - Get all periods in the samples and all periods in the controls\n",
    "        - Get all densities in the samples and all densities in the controls\n",
    "        - use periods and densities to compute for the growth coefficient of samples and controls\n",
    "        \n",
    "### Returns\n",
    "The function returns the following:\n",
    "* all_sample_means\n",
    "* all_control_means\n",
    "* growth_coefficients: a single array where for each cluster its sample GC is followed by control GC\n",
    "* samples_gt_controls\n",
    "* n_targets_gt_0\n",
    "* data: new dataframe where clusters with 0 sample mean have been removed"
   ]
  },
  {
   "cell_type": "markdown",
   "metadata": {},
   "source": [
    "## 2) Generate Bin Values"
   ]
  },
  {
   "cell_type": "markdown",
   "metadata": {},
   "source": [
    "This function takes the main dataframe and the control dataframe and generates bin values from these. \n",
    "\n",
    "### Logic\n",
    "\n",
    "1. Create new bin columns for both the main dataframe and the control dataframe\n",
    "2. Get total samples (sum all contribution) and total controls (count all rows from control dataframe)\n",
    "3. Loop through each bin\n",
    "    - sample_count: for all samples in the bin, sum the contribution\n",
    "    - control_count: count all control dataframe rows that correspond to the bin\n",
    "    - likelihood_ratio: sample_count/control_count (if control_count = 0, multiplier = -1)\n",
    "    - p_sample: sample_count/total_samples\n",
    "    - p_control: control_count/total_controls\n",
    "    - p_likelihood_ratio: p_sample/p_control\n",
    "    \n",
    "    \n",
    "### Returns\n",
    "The function returns the following:\n",
    "* bin_array\n",
    "* sample_counts\n",
    "* control_counts\n",
    "* multipliers\n",
    "* p_samples\n",
    "* p_controls\n",
    "* p_likelihood_ratios\n",
    "    "
   ]
  },
  {
   "cell_type": "markdown",
   "metadata": {
    "collapsed": true
   },
   "source": [
    "## 3) Generate Stats for Likelihood Ratio\n",
    "\n",
    "This function generates graphs and statistics mainly for the likelihood ratio. However, it also produces graphs to show actual vs predicted number of sites.\n",
    "\n",
    "### Logic\n",
    "The logic is as follows:\n",
    "1. Trim arrays using trim_values function (remove rows where p_control < 30)\n",
    "2. Fit and compare linear and threshold models\n",
    "    - get predicted p_likelihood_ratios\n",
    "    - Score predicted p_likelihood_ratios using R2 and chisquare scores\n",
    "3. Compute statistics of a divided graph\n",
    "    - divide graph using divide_graph function\n",
    "    - compute variance for each side as well as levene stat\n",
    "    - compute p_likelihood_ratio of divided graph (ratio for each side)\n",
    "4. Plot graphs\n",
    "    - plot likelihood ratio for linear and threshold models \n",
    "5. Write different statistics to file"
   ]
  },
  {
   "cell_type": "markdown",
   "metadata": {
    "collapsed": true
   },
   "source": [
    "## 4) Generate p Threshold and Binomial\n",
    "\n",
    "This functions looks for the threshold (a bin value) that minimizes the binomial for p. \n",
    "\n",
    "### Conditions for p Binomial:\n",
    "- Trial: comparison between p_sample and p_controls (done per bin)\n",
    "- Success: p_sample <= p_control\n",
    "- assumed probability of success: 0.5\n",
    "\n",
    "\n",
    "### Logic\n",
    "The logic to look for this threshold is as follows:\n",
    "\n",
    "1. We set the current binomial to 100 (a large number) \n",
    "2. We loop through each bin and assume this bin i is the threshold\n",
    "3. We loop from the first bin to bin i\n",
    "    - we compare p_sample and p_control per iteration (+1 trial) \n",
    "    - if p_sample <= p_control, +1 success\n",
    "4. We then check the binomial for the successes and trials with bin i as threshold\n",
    "5. If the binomial is smaller than the previous binomial, we set it as the current binomial\n",
    "    - we also save the following:\n",
    "        - the bin as the current threshold\n",
    "        - the number of success\n",
    "        - the number of trials\n",
    "        - the array of p_samples\n",
    "        - the array of p_controls\n",
    "        \n",
    "### Returns\n",
    "* binomial\n",
    "* threshold\n",
    "* threshold_success_count\n",
    "* threshold_trial_count\n",
    "* threshold_samples\n",
    "* threshold_controls\n",
    "\n"
   ]
  }
 ],
 "metadata": {
  "kernelspec": {
   "display_name": "Python 2",
   "language": "python",
   "name": "python2"
  },
  "language_info": {
   "codemirror_mode": {
    "name": "ipython",
    "version": 2
   },
   "file_extension": ".py",
   "mimetype": "text/x-python",
   "name": "python",
   "nbconvert_exporter": "python",
   "pygments_lexer": "ipython2",
   "version": "2.7.14"
  }
 },
 "nbformat": 4,
 "nbformat_minor": 2
}
