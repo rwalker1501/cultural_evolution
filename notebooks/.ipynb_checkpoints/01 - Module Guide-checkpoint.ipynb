{
 "cells": [
  {
   "cell_type": "markdown",
   "metadata": {},
   "source": [
    "# Module Guide\n",
    "\n",
    "The program is divided in several modules to ensure that functions are grouped together into similar tasks. The modules are as follows:\n",
    "* driver\n",
    "* main_module\n",
    "* classes_module\n",
    "* stats_module\n",
    "* target_module\n",
    "* population_data_module\n",
    "* clusterer\n",
    "* write_module\n",
    "* plot_module\n",
    "\n",
    "I will briefly discuss each module in this notebook."
   ]
  },
  {
   "cell_type": "markdown",
   "metadata": {},
   "source": [
    "## driver\n",
    "\n",
    "This module contains the menu prompt of the program. This is what is run through command line (python driver.py). This initiates the MainProgram object and uses the get and set functions to operate the program.\n",
    "\n",
    "## main_module\n",
    "\n",
    "This module consists of the MainProgram object and the run_experiment method (for generating results through a script). The MainProgram holds the important variables for the results, the get and set functions, as well as the main function of this program, generate_results. \n",
    "\n",
    "## classes_module\n",
    "\n",
    "This module consists of the two main classes that are used in the program:\n",
    "* Target\n",
    "* PopulationData\n",
    "\n",
    "## stats_module\n",
    "\n",
    "All functions that aid in extracting statistics from the data fall under this module. This includes:\n",
    "* curve fitting\n",
    "* cross validation\n",
    "* getting means, growth coefficients, and counts\n",
    "\n",
    "## target_module\n",
    "\n",
    "This module manages targets--from reading to processing targets. Important functions include:\n",
    "* extract_dataframe - where locations from the population data in the targets are extracted as a dataframe\n",
    "* fold_target_list\n",
    "\n",
    "## population_data_module\n",
    "\n",
    "The module includes loading and adding new population data.\n",
    "\n",
    "## Clusterer\n",
    "\n",
    "The module contain the ClusterAnalysis class which clusters targets by distance and time.\n",
    "\n",
    "## write_module\n",
    "\n",
    "The module is a group of write functions used in the other modules.\n",
    "\n",
    "## plot_module\n",
    "\n",
    "This module contains all plot functions."
   ]
  }
 ],
 "metadata": {
  "kernelspec": {
   "display_name": "Python 2",
   "language": "python",
   "name": "python2"
  },
  "language_info": {
   "codemirror_mode": {
    "name": "ipython",
    "version": 2
   },
   "file_extension": ".py",
   "mimetype": "text/x-python",
   "name": "python",
   "nbconvert_exporter": "python",
   "pygments_lexer": "ipython2",
   "version": "2.7.14"
  }
 },
 "nbformat": 4,
 "nbformat_minor": 2
}
