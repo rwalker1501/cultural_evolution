{
 "cells": [
  {
   "cell_type": "markdown",
   "metadata": {},
   "source": [
    "# Clustering Overview"
   ]
  },
  {
   "cell_type": "markdown",
   "metadata": {},
   "source": [
    "This notebook discusses the contents of <b> clusterer.py </b>, which contains object that clusters target by distance and time. The main function of this object is called in process_targets from target_module.py."
   ]
  },
  {
   "cell_type": "markdown",
   "metadata": {},
   "source": [
    "The ClusterAnalysis object has two main functions:\n",
    "1. cluster_targets_by_dist_and_time\n",
    "2. cluster_targets_by_distance\n",
    "\n",
    "## 1) Cluster targets by dist and time\n",
    "This function cluster by distance and then by time. More precisely, groups are produced through clustering by distance, then each group is clustered by time. Clustering is done using sklearn's DBSCAN.\n",
    "\n",
    "### Logic\n",
    "The general logic is as follows:\n",
    "1. Get clustered targets and number of clusters by calling cluster_targets_by_distance\n",
    "2. Group targets in a 2D array by clusters\n",
    "3. Each group is then clustered by time\n",
    "    - the cluster ids are affected by the previous group's last cluster id"
   ]
  },
  {
   "cell_type": "markdown",
   "metadata": {
    "collapsed": true
   },
   "source": [
    "## 2) Cluster targets by distance"
   ]
  },
  {
   "cell_type": "code",
   "execution_count": null,
   "metadata": {
    "collapsed": true
   },
   "outputs": [],
   "source": []
  }
 ],
 "metadata": {
  "kernelspec": {
   "display_name": "Python 2",
   "language": "python",
   "name": "python2"
  },
  "language_info": {
   "codemirror_mode": {
    "name": "ipython",
    "version": 2
   },
   "file_extension": ".py",
   "mimetype": "text/x-python",
   "name": "python",
   "nbconvert_exporter": "python",
   "pygments_lexer": "ipython2",
   "version": "2.7.14"
  }
 },
 "nbformat": 4,
 "nbformat_minor": 2
}
